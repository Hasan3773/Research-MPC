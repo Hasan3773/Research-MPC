{
 "cells": [
  {
   "cell_type": "code",
   "execution_count": 1,
   "metadata": {},
   "outputs": [
    {
     "name": "stderr",
     "output_type": "stream",
     "text": [
      "\u001b[38;20m[INFO] Environment: MetaDriveEnv\u001b[0m\n",
      "\u001b[38;20m[INFO] MetaDrive version: 0.4.2.3\u001b[0m\n",
      "\u001b[38;20m[INFO] Sensors: [lidar: Lidar(), side_detector: SideDetector(), lane_line_detector: LaneLineDetector(), main_camera: MainCamera(1200, 900), dashboard: DashBoard()]\u001b[0m\n",
      "\u001b[38;20m[INFO] Render Mode: onscreen\u001b[0m\n",
      "\u001b[38;20m[INFO] Horizon (Max steps per agent): None\u001b[0m\n"
     ]
    }
   ],
   "source": [
    "from metadrive.envs import MetaDriveEnv\n",
    "from scipy.interpolate import CubicHermiteSpline\n",
    "import numpy as np\n",
    "import mpc \n",
    "\n",
    "env = MetaDriveEnv(dict(\n",
    "        traffic_mode=\"respawn\", map=\"SSS\", use_render = True))"
   ]
  },
  {
   "cell_type": "code",
   "execution_count": 4,
   "metadata": {},
   "outputs": [],
   "source": [
    "def make_line(x_offset, height, y_dir=1, color=(1,105/255,180/255)):\n",
    "    points = [(x_offset+x,x*y_dir,height*x/10+height) for x in range(10)]\n",
    "    colors = [np.clip(np.array([*color,1])*(i+1)/11, 0., 1.0) for i in range(10)]\n",
    "    if y_dir<0:\n",
    "        points = points[::-1]\n",
    "        colors = colors[::-1]\n",
    "    return points, colors"
   ]
  },
  {
   "cell_type": "code",
   "execution_count": 6,
   "metadata": {},
   "outputs": [
    {
     "ename": "AttributeError",
     "evalue": "'ColorSphereNodePath' object has no attribute 'draw_lines'",
     "output_type": "error",
     "traceback": [
      "\u001b[1;31m---------------------------------------------------------------------------\u001b[0m",
      "\u001b[1;31mAttributeError\u001b[0m                            Traceback (most recent call last)",
      "Cell \u001b[1;32mIn[6], line 9\u001b[0m\n\u001b[0;32m      7\u001b[0m drawer \u001b[38;5;241m=\u001b[39m env\u001b[38;5;241m.\u001b[39mengine\u001b[38;5;241m.\u001b[39mmake_line_drawer(thickness\u001b[38;5;241m=\u001b[39m\u001b[38;5;241m5\u001b[39m)\n\u001b[0;32m      8\u001b[0m point_drawer \u001b[38;5;241m=\u001b[39m env\u001b[38;5;241m.\u001b[39mengine\u001b[38;5;241m.\u001b[39mmake_point_drawer(scale\u001b[38;5;241m=\u001b[39m\u001b[38;5;241m1\u001b[39m) \u001b[38;5;66;03m# create a point drawer\u001b[39;00m\n\u001b[1;32m----> 9\u001b[0m \u001b[43mpoint_drawer\u001b[49m\u001b[38;5;241;43m.\u001b[39;49m\u001b[43mdraw_lines\u001b[49m(lines, colors)\n\u001b[0;32m     11\u001b[0m \u001b[38;5;28;01mfor\u001b[39;00m i \u001b[38;5;129;01min\u001b[39;00m \u001b[38;5;28mrange\u001b[39m(\u001b[38;5;241m100\u001b[39m):\n\u001b[0;32m     12\u001b[0m     action \u001b[38;5;241m=\u001b[39m mpc\u001b[38;5;241m.\u001b[39mfind_action(env\u001b[38;5;241m.\u001b[39mvehicle) \u001b[38;5;66;03m# calls mpc solver\u001b[39;00m\n",
      "\u001b[1;31mAttributeError\u001b[0m: 'ColorSphereNodePath' object has no attribute 'draw_lines'"
     ]
    }
   ],
   "source": [
    "obs, info = env.reset()\n",
    "\n",
    "line_1, color_1 = make_line(5, .5, 10) # define line 1 for test\n",
    "line_2, color_2 = make_line(5, .5, -1) # define line 2 for test\n",
    "lines = [line_1, line_2]\n",
    "colors = [color_1, color_2]\n",
    "drawer = env.engine.make_line_drawer(thickness=5)\n",
    "point_drawer = env.engine.make_point_drawer(scale=1) # create a point drawer\n",
    "point_drawer.draw_points(lines, colors)\n",
    "\n",
    "for i in range(100):\n",
    "    action = mpc.find_action(env.vehicle) # calls mpc solver\n",
    "\n",
    "    obs, reward, terminated, truncated, info = env.step(action)\n",
    "\n",
    "    env.render(mode=\"render\",\n",
    "    scaling=None,\n",
    "    film_size=(500, 500),\n",
    "    screen_size=(1500, 500),\n",
    "    # target_vehicle_heading_up=True,\n",
    "    camera_position=(0,0),\n",
    "    screen_record=False,\n",
    "    window=True,\n",
    "    text={\"episode_step\": env.engine.episode_step,\n",
    "            \"mode\": \"Trigger\"})\n",
    "    \n",
    "    if terminated or truncated:\n",
    "            obs, info = env.reset()\n",
    "# env.close()\n"
   ]
  },
  {
   "cell_type": "code",
   "execution_count": 15,
   "metadata": {},
   "outputs": [],
   "source": [
    "env.close()"
   ]
  }
 ],
 "metadata": {
  "kernelspec": {
   "display_name": "Python 3",
   "language": "python",
   "name": "python3"
  },
  "language_info": {
   "codemirror_mode": {
    "name": "ipython",
    "version": 3
   },
   "file_extension": ".py",
   "mimetype": "text/x-python",
   "name": "python",
   "nbconvert_exporter": "python",
   "pygments_lexer": "ipython3",
   "version": "3.11.9"
  }
 },
 "nbformat": 4,
 "nbformat_minor": 2
}
